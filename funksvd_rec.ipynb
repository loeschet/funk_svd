{
 "cells": [
  {
   "attachments": {},
   "cell_type": "markdown",
   "metadata": {},
   "source": [
    "# Recommendation engine based on FunkSVD\n",
    "\n",
    "This is a simple recommendation engine that recommends movies to users based on movie reviews data supplied by [Udacity](https://www.udacity.com/) in the [data scientist nanodegree](https://www.udacity.com/course/data-scientist-nanodegree--nd025) course.\n",
    "\n",
    "It uses a blend of the \"FunkSVD\" matrix factorization technique (made famous by [Simon Funk](https://sifter.org/simon/journal/20061211.html) in the [Netflix prize](https://en.wikipedia.org/wiki/Netflix_Prize) competition) as well as content and knowledge-based recommendations for users/movies that are not contained in the training FunkSVD training data (e.g. because they are new users and/or movies).\n",
    "\n",
    "While currently the `Recommender` class is implemented such that it works best with the Udacity dataset, it is easy to implement for other datasets as well.\n",
    "\n",
    "As a first step, we create an instance of the `Recommender` class, specifying the `csv` files containing movie and user reviews data."
   ]
  },
  {
   "cell_type": "code",
   "execution_count": 1,
   "metadata": {},
   "outputs": [],
   "source": [
    "from recommender import Recommender\n",
    "import numpy as np\n",
    "import os\n",
    "import json\n",
    "\n",
    "rec = Recommender(\"movies_clean.csv\", \"reviews_clean.csv\")"
   ]
  },
  {
   "attachments": {},
   "cell_type": "markdown",
   "metadata": {},
   "source": [
    "We then run the fit. Alternatively, we can decide to load results from a previously conducted fit."
   ]
  },
  {
   "cell_type": "code",
   "execution_count": 2,
   "metadata": {},
   "outputs": [
    {
     "name": "stdout",
     "output_type": "stream",
     "text": [
      "Optimization\n",
      "Iterations | Mean Squared Error\n",
      "1 \t\t 18.265115949206795\n",
      "2 \t\t 12.762054431869226\n",
      "3 \t\t 10.342004023153546\n",
      "4 \t\t 8.935375164104022\n",
      "5 \t\t 7.961116942277914\n",
      "6 \t\t 7.216776661790408\n",
      "7 \t\t 6.6163979373134625\n",
      "8 \t\t 6.115846576574696\n",
      "9 \t\t 5.6889693322084085\n",
      "10 \t\t 5.318726814234579\n",
      "11 \t\t 4.993306116114691\n",
      "12 \t\t 4.704160255237466\n",
      "13 \t\t 4.4449077763793206\n",
      "14 \t\t 4.210665239044069\n",
      "15 \t\t 3.997619141027074\n",
      "16 \t\t 3.8027399902463332\n",
      "17 \t\t 3.6235852335013528\n",
      "18 \t\t 3.45815989195901\n",
      "19 \t\t 3.304815811006888\n",
      "20 \t\t 3.1621774048314175\n",
      "21 \t\t 3.0290859865697763\n",
      "22 \t\t 2.904557398849962\n",
      "23 \t\t 2.7877493357095955\n",
      "24 \t\t 2.677935840856372\n",
      "25 \t\t 2.5744871958461077\n",
      "26 \t\t 2.4768539067984925\n",
      "27 \t\t 2.384553841297077\n",
      "28 \t\t 2.297161809377656\n",
      "29 \t\t 2.214301056685122\n",
      "30 \t\t 2.135636265158737\n",
      "31 \t\t 2.06086775095128\n",
      "32 \t\t 1.989726620070261\n",
      "33 \t\t 1.921970695858752\n",
      "34 \t\t 1.857381073373235\n",
      "35 \t\t 1.795759187138903\n",
      "36 \t\t 1.736924302960393\n",
      "37 \t\t 1.6807113631263613\n",
      "38 \t\t 1.6269691287338826\n",
      "39 \t\t 1.5755585739366524\n",
      "40 \t\t 1.5263514954357502\n",
      "41 \t\t 1.4792293070659421\n",
      "42 \t\t 1.434081994350255\n",
      "43 \t\t 1.3908072077651896\n",
      "44 \t\t 1.3493094764739852\n",
      "45 \t\t 1.309499526672503\n",
      "46 \t\t 1.2712936906305496\n",
      "47 \t\t 1.2346133941325264\n",
      "48 \t\t 1.199384711422939\n",
      "49 \t\t 1.165537978008907\n",
      "50 \t\t 1.1330074528074365\n",
      "51 \t\t 1.1017310221727055\n",
      "52 \t\t 1.071649939310631\n",
      "53 \t\t 1.0427085934865072\n",
      "54 \t\t 1.0148543042564886\n",
      "55 \t\t 0.9880371367014351\n",
      "56 \t\t 0.9622097343092273\n",
      "57 \t\t 0.9373271667393833\n",
      "58 \t\t 0.913346790210744\n",
      "59 \t\t 0.8902281186840424\n",
      "60 \t\t 0.8679327043703235\n",
      "61 \t\t 0.8464240263905789\n",
      "62 \t\t 0.8256673866489727\n",
      "63 \t\t 0.8056298121691599\n",
      "64 \t\t 0.7862799632892583\n",
      "65 \t\t 0.7675880472221437\n",
      "66 \t\t 0.7495257365719947\n",
      "67 \t\t 0.7320660924603246\n",
      "68 \t\t 0.7151834919608998\n",
      "69 \t\t 0.6988535595767209\n",
      "70 \t\t 0.683053102517372\n",
      "71 \t\t 0.6677600495536665\n",
      "72 \t\t 0.6529533932414398\n",
      "73 \t\t 0.6386131353181007\n",
      "74 \t\t 0.6247202350859488\n",
      "75 \t\t 0.6112565606057152\n",
      "76 \t\t 0.5982048425325713\n",
      "77 \t\t 0.5855486304357157\n",
      "78 \t\t 0.5732722514510362\n",
      "79 \t\t 0.5613607711252697\n",
      "80 \t\t 0.5497999563182124\n",
      "81 \t\t 0.5385762400382778\n",
      "82 \t\t 0.5276766880947786\n",
      "83 \t\t 0.5170889674583711\n",
      "84 \t\t 0.5068013162288114\n",
      "85 \t\t 0.49680251511656903\n",
      "86 \t\t 0.48708186035172674\n",
      "87 \t\t 0.4776291379402192\n",
      "88 \t\t 0.46843459919349173\n",
      "89 \t\t 0.45948893746330843\n",
      "90 \t\t 0.45078326601864344\n",
      "91 \t\t 0.44230909700624416\n",
      "92 \t\t 0.4340583214408574\n",
      "93 \t\t 0.4260231901748861\n",
      "94 \t\t 0.4181962958008107\n",
      "95 \t\t 0.4105705554428386\n",
      "96 \t\t 0.4031391943969624\n",
      "97 \t\t 0.3958957305812413\n",
      "98 \t\t 0.3888339597602073\n",
      "99 \t\t 0.3819479415093196\n",
      "100 \t\t 0.3752319858871325\n",
      "Finished fitting.\n"
     ]
    }
   ],
   "source": [
    "# Whether to run the fit or restore previous fit results\n",
    "#\n",
    "# Note that for udacity-provided dataset and using default values, FunkSVD\n",
    "# only takes around 1 minute to fit on a modern-era CPU\n",
    "load_from_checkpoint = False\n",
    "\n",
    "if load_from_checkpoint:\n",
    "    # load results from current directory\n",
    "    rec.load_results(\"./\")\n",
    "    \n",
    "    print(\"Successfully loaded results!\")\n",
    "else:\n",
    "    # fit recommender\n",
    "    rec.fit()\n",
    "    \n",
    "    # after fit, store results for being able to load them later\n",
    "\n",
    "    np.save(\"u_mat.npy\", rec.u_mat)\n",
    "    np.save(\"i_mat.npy\", rec.i_mat)\n",
    "\n",
    "    res_dict = {\n",
    "        \"iterations\": 100,\n",
    "        \"latent_feats\": 12,\n",
    "        \"train_size\": 8000,\n",
    "        \"learning_rate\": 0.001,\n",
    "        \"test_size\": 2000,\n",
    "        \"order_by\": \"date\",\n",
    "        \"seed\": None,\n",
    "        \"u_mat\": os.path.abspath(\"./u_mat.npy\"),\n",
    "        \"i_mat\": os.path.abspath(\"./i_mat.npy\")\n",
    "    }\n",
    "\n",
    "    with open(\"results.json\", \"w\") as jsonfile:\n",
    "        json.dump(res_dict, jsonfile, indent=4)"
   ]
  },
  {
   "attachments": {},
   "cell_type": "markdown",
   "metadata": {},
   "source": [
    "During the fit, we see the iterations as well as the mean squared error (MSE) after each iteration being printed out. In our example, we achieve an MSE value of around 0.37 (actual value might differ depending on random initialization) after the final iteration.\n",
    "\n",
    "Finally, we evaluate our results on a statistically independent validation dataset and plot a visualization of the confusion matrix of the ratings (ranging from values of 1 to 10 here).\n",
    "\n",
    "As we can see, at least for the highly populated rating values, we get predictions around the diagonal. However, it is more difficult to make an assessment for lower ratings, since there is much less statistics available."
   ]
  },
  {
   "cell_type": "code",
   "execution_count": 3,
   "metadata": {},
   "outputs": [
    {
     "data": {
      "image/png": "[encoded data removed]",
      "text/plain": [
       "<Figure size 640x480 with 2 Axes>"
      ]
     },
     "metadata": {},
     "output_type": "display_data"
    }
   ],
   "source": [
    "val_results = rec.validation_comparison(plot=True)"
   ]
  },
  {
   "attachments": {},
   "cell_type": "markdown",
   "metadata": {},
   "source": [
    "Let's also print the root mean squared error (RMSE) for the validation dataset, as well as the percentage of values that could be rated by FunkSVD:"
   ]
  },
  {
   "cell_type": "code",
   "execution_count": 4,
   "metadata": {},
   "outputs": [
    {
     "name": "stdout",
     "output_type": "stream",
     "text": [
      "1.866806072988112 0.5475\n"
     ]
    }
   ],
   "source": [
    "print(val_results[\"rmse\"], val_results[\"perc_rated\"])"
   ]
  },
  {
   "attachments": {},
   "cell_type": "markdown",
   "metadata": {},
   "source": [
    "We see that on the validation set, the RMSE is way higher than for the training set (the corresponding value for the MSE of 0.37 that was achieved by the training set would be around 0.6).\n",
    "\n",
    "Also, the `perc_rated` value in the `val_results` dictionary tells us that only around 54% of values were actually able to receive a rating. The rest of the validation set consists of movies or users that did not exist in the training set, and thus `FunkSVD` can't make a prediction here. \n",
    "\n",
    "The difficulty of inferring ratings/recommendations for **new** items/users is known as the \"cold start problem\". For these users/items we need to resort to content/knowledge based recommendations instead, which will later be done using the `make_recs` method of our `Recommender`.\n",
    "\n",
    "We can see what happens when we try to predict a rating for a made-up user ID, that doesn't exist in the training set:"
   ]
  },
  {
   "cell_type": "code",
   "execution_count": 6,
   "metadata": {},
   "outputs": [
    {
     "ename": "ValueError",
     "evalue": "User or movie is not in training data and thus no prediction can be made",
     "output_type": "error",
     "traceback": [
      "\u001b[0;31m---------------------------------------------------------------------------\u001b[0m",
      "\u001b[0;31mValueError\u001b[0m                                Traceback (most recent call last)",
      "Cell \u001b[0;32mIn[6], line 3\u001b[0m\n\u001b[1;32m      1\u001b[0m \u001b[39m# if either a movie or a user is not in our training data, we can't make a\u001b[39;00m\n\u001b[1;32m      2\u001b[0m \u001b[39m# prediction with our trained FunkSVD model and a ValueError is raised\u001b[39;00m\n\u001b[0;32m----> 3\u001b[0m pred \u001b[39m=\u001b[39m rec\u001b[39m.\u001b[39;49mpredict_rating(\u001b[39m5211\u001b[39;49m, \u001b[39m1663662\u001b[39;49m)\n",
      "File \u001b[0;32m~/code/funk_svd/recommender.py:127\u001b[0m, in \u001b[0;36mRecommender.predict_rating\u001b[0;34m(self, user_id, movie_id)\u001b[0m\n\u001b[1;32m    124\u001b[0m movie_ids \u001b[39m=\u001b[39m \u001b[39mself\u001b[39m\u001b[39m.\u001b[39mtrain_user_item\u001b[39m.\u001b[39mcolumns\n\u001b[1;32m    126\u001b[0m \u001b[39mif\u001b[39;00m \u001b[39mnot\u001b[39;00m (user_id \u001b[39min\u001b[39;00m user_ids \u001b[39mand\u001b[39;00m movie_id \u001b[39min\u001b[39;00m movie_ids):\n\u001b[0;32m--> 127\u001b[0m     \u001b[39mraise\u001b[39;00m \u001b[39mValueError\u001b[39;00m((\u001b[39m\"\u001b[39m\u001b[39mUser or movie is not in training data and thus \u001b[39m\u001b[39m\"\u001b[39m\n\u001b[1;32m    128\u001b[0m                       \u001b[39m\"\u001b[39m\u001b[39mno prediction can be made\u001b[39m\u001b[39m\"\u001b[39m))\n\u001b[1;32m    130\u001b[0m usr_row \u001b[39m=\u001b[39m np\u001b[39m.\u001b[39mwhere(user_ids \u001b[39m==\u001b[39m user_id)[\u001b[39m0\u001b[39m][\u001b[39m0\u001b[39m]\n\u001b[1;32m    131\u001b[0m movie_col \u001b[39m=\u001b[39m np\u001b[39m.\u001b[39mwhere(movie_ids \u001b[39m==\u001b[39m movie_id)[\u001b[39m0\u001b[39m][\u001b[39m0\u001b[39m]\n",
      "\u001b[0;31mValueError\u001b[0m: User or movie is not in training data and thus no prediction can be made"
     ]
    }
   ],
   "source": [
    "# if either a movie or a user is not in our training data, we can't make a\n",
    "# prediction with our trained FunkSVD model and a ValueError is raised\n",
    "pred = rec.predict_rating(5211, 1663662)"
   ]
  },
  {
   "attachments": {},
   "cell_type": "markdown",
   "metadata": {},
   "source": [
    "We throw a `ValueError` here and print out the respective error prompt.\n",
    "\n",
    "Finally, we create a result dictionary (`res_dict`), that contains 5 recommendations for **all** users in our validation dataset:\n",
    "\n",
    "Users that **do** exist in the training set receive recommendations based on `FunkSVD` while **other** users get knowledge/content based recommendations. In the latter case, recommendations are based on the **average** rating of a movie, the **number** of ratings a movie received and the **recency** of movie ratings, sorted in this order. The number 5 was arbitrarily chosen here, and can be set to a different value by changing the `rec_num` variable in the `make_recs` method."
   ]
  },
  {
   "cell_type": "code",
   "execution_count": 7,
   "metadata": {},
   "outputs": [],
   "source": [
    "# create dictionary with user id's and recommendations\n",
    "res_dict = {}\n",
    "for usr in rec.val_df[\"user_id\"]:\n",
    "    res_dict[usr] = rec.make_recs(usr, id_type=\"user\")"
   ]
  },
  {
   "attachments": {},
   "cell_type": "markdown",
   "metadata": {},
   "source": [
    "Let's print the recommendations for two of the users as an example"
   ]
  },
  {
   "cell_type": "code",
   "execution_count": 14,
   "metadata": {},
   "outputs": [
    {
     "name": "stdout",
     "output_type": "stream",
     "text": [
      "['The Magnificent Seven (1960)', 'Il buono, il brutto, il cattivo (1966)', 'Immortal Beloved (1994)', 'Life of Pi (2012)', 'Star Trek Into Darkness (2013)']\n",
      "['A Beautiful Mind (2001)', 'National Treasure (2004)', 'Star Trek Into Darkness (2013)', 'Jodaeiye Nader az Simin (2011)', 'The Sessions (2012)']\n"
     ]
    }
   ],
   "source": [
    "print(res_dict[rec.val_df[\"user_id\"].iloc[0]])\n",
    "print(res_dict[rec.val_df[\"user_id\"].iloc[-1]])"
   ]
  }
 ],
 "metadata": {
  "kernelspec": {
   "display_name": "Python 3",
   "language": "python",
   "name": "python3"
  },
  "language_info": {
   "codemirror_mode": {
    "name": "ipython",
    "version": 3
   },
   "file_extension": ".py",
   "mimetype": "text/x-python",
   "name": "python",
   "nbconvert_exporter": "python",
   "pygments_lexer": "ipython3",
   "version": "3.10.9"
  },
  "orig_nbformat": 4,
  "vscode": {
   "interpreter": {
    "hash": "e7370f93d1d0cde622a1f8e1c04877d8463912d04d973331ad4851f04de6915a"
   }
  }
 },
 "nbformat": 4,
 "nbformat_minor": 2
}
