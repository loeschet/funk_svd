{
 "cells": [
  {
   "attachments": {},
   "cell_type": "markdown",
   "metadata": {},
   "source": [
    "# Recommendation engine based on FunkSVD\n",
    "\n",
    "This is a simple recommendation engine that recommends movies to users based on movie reviews data supplied by [Udacity](https://www.udacity.com/) in the [data scientist nanodegree](https://www.udacity.com/course/data-scientist-nanodegree--nd025) course.\n",
    "\n",
    "It uses a blend of the \"FunkSVD\" matrix factorization technique (made famous by [Simon Funk](https://sifter.org/simon/journal/20061211.html) in the [Netflix prize](https://en.wikipedia.org/wiki/Netflix_Prize) competition) as well as content and knowledge-based recommendations for users/movies that are not contained in the FunkSVD training data (e.g. because they are new users and/or movies).\n",
    "\n",
    "While currently the `Recommender` class is implemented such that it works best with the Udacity dataset, it is easy to implement for other datasets as well.\n",
    "\n",
    "As a first step, we create an instance of the `Recommender` class, specifying the `csv` files containing movie and user reviews data."
   ]
  },
  {
   "cell_type": "code",
   "execution_count": 1,
   "metadata": {},
   "outputs": [],
   "source": [
    "from recommender import Recommender\n",
    "import numpy as np\n",
    "import os\n",
    "import json\n",
    "\n",
    "rec = Recommender(\"movies_clean.csv\", \"reviews_clean.csv\")"
   ]
  },
  {
   "attachments": {},
   "cell_type": "markdown",
   "metadata": {},
   "source": [
    "We then run the fit. Alternatively, we can decide to load results from a previously conducted fit."
   ]
  },
  {
   "cell_type": "code",
   "execution_count": 2,
   "metadata": {},
   "outputs": [
    {
     "name": "stdout",
     "output_type": "stream",
     "text": [
      "Optimization\n",
      "Iterations | Mean Squared Error\n",
      "1 \t\t 18.32301648666003\n",
      "2 \t\t 12.742743512827484\n",
      "3 \t\t 10.341924034028406\n",
      "4 \t\t 8.947428549181895\n",
      "5 \t\t 7.976068045452684\n",
      "6 \t\t 7.230080107498634\n",
      "7 \t\t 6.626382453817707\n",
      "8 \t\t 6.122285874404937\n",
      "9 \t\t 5.692270458646883\n",
      "10 \t\t 5.319501969158281\n",
      "11 \t\t 4.992163912477905\n",
      "12 \t\t 4.701617881330666\n",
      "13 \t\t 4.441366412074254\n",
      "14 \t\t 4.206415795621802\n",
      "15 \t\t 3.992860227098155\n",
      "16 \t\t 3.7975987486700933\n",
      "17 \t\t 3.6181366804467507\n",
      "18 \t\t 3.4524430961635573\n",
      "19 \t\t 3.298846617208013\n",
      "20 \t\t 3.1559580162911574\n",
      "21 \t\t 3.0226119320908382\n",
      "22 \t\t 2.897822425319486\n",
      "23 \t\t 2.780748701242954\n",
      "24 \t\t 2.6706683943408227\n",
      "25 \t\t 2.5669565432396215\n",
      "26 \t\t 2.4690688933411584\n",
      "27 \t\t 2.3765285239142195\n",
      "28 \t\t 2.288915053333849\n",
      "29 \t\t 2.2058558620119757\n",
      "30 \t\t 2.127018908406142\n",
      "31 \t\t 2.0521068136527116\n",
      "32 \t\t 1.9808519647664418\n",
      "33 \t\t 1.9130124419564414\n",
      "34 \t\t 1.8483686174133978\n",
      "35 \t\t 1.7867203045368418\n",
      "36 \t\t 1.7278843606441463\n",
      "37 \t\t 1.6716926646938512\n",
      "38 \t\t 1.6179904059165\n",
      "39 \t\t 1.5666346305545322\n",
      "40 \t\t 1.517493002955913\n",
      "41 \t\t 1.4704427446211636\n",
      "42 \t\t 1.425369720879115\n",
      "43 \t\t 1.3821676499532698\n",
      "44 \t\t 1.3407374134785468\n",
      "45 \t\t 1.3009864511791378\n",
      "46 \t\t 1.2628282255177812\n",
      "47 \t\t 1.2261817447505714\n",
      "48 \t\t 1.1909711350238927\n",
      "49 \t\t 1.1571252539818335\n",
      "50 \t\t 1.1245773398558163\n",
      "51 \t\t 1.0932646912265884\n",
      "52 \t\t 1.0631283736208599\n",
      "53 \t\t 1.0341129498692976\n",
      "54 \t\t 1.0061662317449296\n",
      "55 \t\t 0.9792390508526567\n",
      "56 \t\t 0.9532850470813811\n",
      "57 \t\t 0.9282604731840505\n",
      "58 \t\t 0.9041240142388607\n",
      "59 \t\t 0.880836620884493\n",
      "60 \t\t 0.8583613553261455\n",
      "61 \t\t 0.836663249189233\n",
      "62 \t\t 0.8157091723606988\n",
      "63 \t\t 0.7954677120105466\n",
      "64 \t\t 0.7759090610320092\n",
      "65 \t\t 0.7570049151813868\n",
      "66 \t\t 0.7387283782381451\n",
      "67 \t\t 0.7210538745455682\n",
      "68 \t\t 0.7039570683303614\n",
      "69 \t\t 0.6874147892381205\n",
      "70 \t\t 0.6714049635591093\n",
      "71 \t\t 0.6559065506561792\n",
      "72 \t\t 0.6408994841426968\n",
      "73 \t\t 0.6263646173935641\n",
      "74 \t\t 0.6122836730063443\n",
      "75 \t\t 0.5986391958616005\n",
      "76 \t\t 0.5854145094622052\n",
      "77 \t\t 0.5725936752600975\n",
      "78 \t\t 0.5601614547058419\n",
      "79 \t\t 0.5481032737813701\n",
      "80 \t\t 0.5364051897992732\n",
      "81 \t\t 0.5250538602733704\n",
      "82 \t\t 0.5140365136846097\n",
      "83 \t\t 0.5033409219841602\n",
      "84 \t\t 0.4929553746915691\n",
      "85 \t\t 0.4828686544604729\n",
      "86 \t\t 0.4730700139974649\n",
      "87 \t\t 0.4635491542314114\n",
      "88 \t\t 0.4542962036412824\n",
      "89 \t\t 0.44530169865971614\n",
      "90 \t\t 0.43655656507821394\n",
      "91 \t\t 0.42805210038710995\n",
      "92 \t\t 0.4197799569902084\n",
      "93 \t\t 0.41173212623975547\n",
      "94 \t\t 0.4039009232425953\n",
      "95 \t\t 0.3962789723929126\n",
      "96 \t\t 0.3888591935908886\n",
      "97 \t\t 0.3816347891101643\n",
      "98 \t\t 0.37459923108005266\n",
      "99 \t\t 0.36774624955102675\n",
      "100 \t\t 0.3610698211145552\n",
      "Finished fitting.\n"
     ]
    }
   ],
   "source": [
    "# Whether to run the fit or restore previous fit results\n",
    "#\n",
    "# Note that for udacity-provided dataset and using default values, FunkSVD\n",
    "# only takes around 1 minute to fit on a modern-era CPU\n",
    "load_from_checkpoint = False\n",
    "\n",
    "if load_from_checkpoint:\n",
    "    # load results from current directory\n",
    "    rec.load_results(\"./\")\n",
    "    \n",
    "    print(\"Successfully loaded results!\")\n",
    "else:\n",
    "    # fit recommender\n",
    "    rec.fit()\n",
    "    \n",
    "    # after fit, store results for being able to load them later\n",
    "\n",
    "    np.save(\"u_mat.npy\", rec.u_mat)\n",
    "    np.save(\"i_mat.npy\", rec.i_mat)\n",
    "\n",
    "    res_dict = {\n",
    "        \"iterations\": 100,\n",
    "        \"latent_feats\": 12,\n",
    "        \"train_size\": 8000,\n",
    "        \"learning_rate\": 0.001,\n",
    "        \"test_size\": 2000,\n",
    "        \"order_by\": \"date\",\n",
    "        \"seed\": None,\n",
    "        \"u_mat\": os.path.abspath(\"./u_mat.npy\"),\n",
    "        \"i_mat\": os.path.abspath(\"./i_mat.npy\")\n",
    "    }\n",
    "\n",
    "    with open(\"results.json\", \"w\") as jsonfile:\n",
    "        json.dump(res_dict, jsonfile, indent=4)"
   ]
  },
  {
   "attachments": {},
   "cell_type": "markdown",
   "metadata": {},
   "source": [
    "During the fit, we see the iterations as well as the mean squared error (MSE) after each iteration being printed out. In our example, we achieve an MSE value of around 0.37 (actual value might differ depending on random initialization) after the final iteration.\n",
    "\n",
    "Finally, we evaluate our results on a statistically independent validation dataset and plot a visualization of the confusion matrix of the ratings (ranging from values of 1 to 10 here).\n",
    "\n",
    "As we can see, at least for the highly populated rating values, we get predictions around the diagonal. However, it is more difficult to make an assessment for lower ratings, since there is much less statistics available."
   ]
  },
  {
   "cell_type": "code",
   "execution_count": 3,
   "metadata": {},
   "outputs": [
    {
     "data": {
      "image/png": "[encoded data removed]",
      "text/plain": [
       "<Figure size 640x480 with 2 Axes>"
      ]
     },
     "metadata": {},
     "output_type": "display_data"
    }
   ],
   "source": [
    "val_results = rec.validation_comparison(plot=True)"
   ]
  },
  {
   "attachments": {},
   "cell_type": "markdown",
   "metadata": {},
   "source": [
    "Let's also print the root mean squared error (RMSE) for the validation dataset, as well as the percentage of values that could be rated by FunkSVD:"
   ]
  },
  {
   "cell_type": "code",
   "execution_count": 4,
   "metadata": {},
   "outputs": [
    {
     "name": "stdout",
     "output_type": "stream",
     "text": [
      "1.8655877912366494 0.5475\n"
     ]
    }
   ],
   "source": [
    "print(val_results[\"rmse\"], val_results[\"perc_rated\"])"
   ]
  },
  {
   "attachments": {},
   "cell_type": "markdown",
   "metadata": {},
   "source": [
    "We see that on the validation set, the RMSE is way higher than for the training set (the corresponding value for the MSE of 0.37 that was achieved by the training set would be around 0.6).\n",
    "\n",
    "Also, the `perc_rated` value in the `val_results` dictionary tells us that only around 54% of values were actually able to receive a rating. The rest of the validation set consists of movies or users that did not exist in the training set, and thus `FunkSVD` can't make a prediction here. \n",
    "\n",
    "The difficulty of inferring ratings/recommendations for **new** items/users is known as the \"cold start problem\". For these users/items we need to resort to content/knowledge based recommendations instead, which will later be done using the `make_recs` method of our `Recommender`.\n",
    "\n",
    "We can see what happens when we try to predict a rating for a made-up user ID, that doesn't exist in the training set:"
   ]
  },
  {
   "cell_type": "code",
   "execution_count": 5,
   "metadata": {},
   "outputs": [
    {
     "ename": "ValueError",
     "evalue": "User or movie is not in training data and thus no prediction can be made",
     "output_type": "error",
     "traceback": [
      "\u001b[0;31m---------------------------------------------------------------------------\u001b[0m",
      "\u001b[0;31mValueError\u001b[0m                                Traceback (most recent call last)",
      "Cell \u001b[0;32mIn[5], line 3\u001b[0m\n\u001b[1;32m      1\u001b[0m \u001b[39m# if either a movie or a user is not in our training data, we can't make a\u001b[39;00m\n\u001b[1;32m      2\u001b[0m \u001b[39m# prediction with our trained FunkSVD model and a ValueError is raised\u001b[39;00m\n\u001b[0;32m----> 3\u001b[0m pred \u001b[39m=\u001b[39m rec\u001b[39m.\u001b[39;49mpredict_rating(\u001b[39m5211\u001b[39;49m, \u001b[39m1663662\u001b[39;49m)\n",
      "File \u001b[0;32m~/code/funk_svd/recommender.py:184\u001b[0m, in \u001b[0;36mRecommender.predict_rating\u001b[0;34m(self, user_id, movie_id)\u001b[0m\n\u001b[1;32m    181\u001b[0m movie_ids \u001b[39m=\u001b[39m \u001b[39mself\u001b[39m\u001b[39m.\u001b[39mtrain_user_item\u001b[39m.\u001b[39mcolumns\n\u001b[1;32m    183\u001b[0m \u001b[39mif\u001b[39;00m \u001b[39mnot\u001b[39;00m (user_id \u001b[39min\u001b[39;00m user_ids \u001b[39mand\u001b[39;00m movie_id \u001b[39min\u001b[39;00m movie_ids):\n\u001b[0;32m--> 184\u001b[0m     \u001b[39mraise\u001b[39;00m \u001b[39mValueError\u001b[39;00m((\u001b[39m\"\u001b[39m\u001b[39mUser or movie is not in training data and thus \u001b[39m\u001b[39m\"\u001b[39m\n\u001b[1;32m    185\u001b[0m                       \u001b[39m\"\u001b[39m\u001b[39mno prediction can be made\u001b[39m\u001b[39m\"\u001b[39m))\n\u001b[1;32m    187\u001b[0m usr_row \u001b[39m=\u001b[39m np\u001b[39m.\u001b[39mwhere(user_ids \u001b[39m==\u001b[39m user_id)[\u001b[39m0\u001b[39m][\u001b[39m0\u001b[39m]\n\u001b[1;32m    188\u001b[0m movie_col \u001b[39m=\u001b[39m np\u001b[39m.\u001b[39mwhere(movie_ids \u001b[39m==\u001b[39m movie_id)[\u001b[39m0\u001b[39m][\u001b[39m0\u001b[39m]\n",
      "\u001b[0;31mValueError\u001b[0m: User or movie is not in training data and thus no prediction can be made"
     ]
    }
   ],
   "source": [
    "# if either a movie or a user is not in our training data, we can't make a\n",
    "# prediction with our trained FunkSVD model and a ValueError is raised\n",
    "pred = rec.predict_rating(5211, 1663662)"
   ]
  },
  {
   "attachments": {},
   "cell_type": "markdown",
   "metadata": {},
   "source": [
    "We throw a `ValueError` here and print out the respective error prompt.\n",
    "\n",
    "Finally, we create a result dictionary (`res_dict`), that contains 5 recommendations for **all** users in our validation dataset:\n",
    "\n",
    "Users that **do** exist in the training set receive recommendations based on `FunkSVD` while **other** users get knowledge/content based recommendations. In the latter case, recommendations are based on the **average** rating of a movie, the **number** of ratings a movie received and the **recency** of movie ratings, sorted in this order. The number 5 was arbitrarily chosen here, and can be set to a different value by changing the `rec_num` variable in the `make_recs` method."
   ]
  },
  {
   "cell_type": "code",
   "execution_count": 6,
   "metadata": {},
   "outputs": [],
   "source": [
    "# create dictionary with user id's and recommendations\n",
    "res_dict = {}\n",
    "for usr in rec.val_df[\"user_id\"]:\n",
    "    res_dict[usr] = rec.make_recs(usr, id_type=\"user\")"
   ]
  },
  {
   "attachments": {},
   "cell_type": "markdown",
   "metadata": {},
   "source": [
    "Let's print the recommendations for two of the users as an example"
   ]
  },
  {
   "cell_type": "code",
   "execution_count": 7,
   "metadata": {},
   "outputs": [
    {
     "name": "stdout",
     "output_type": "stream",
     "text": [
      "['Falling Down (1993)', 'La haine (1995)', 'Memento (2000)', 'The Perks of Being a Wallflower (2012)', 'The Sessions (2012)']\n",
      "['Falling Down (1993)', 'Sen to Chihiro no kamikakushi (2001)', 'The Fall (2006)', 'The Sessions (2012)', 'Spring Breakers (2012)']\n"
     ]
    }
   ],
   "source": [
    "print(res_dict[rec.val_df[\"user_id\"].iloc[0]])\n",
    "print(res_dict[rec.val_df[\"user_id\"].iloc[-1]])"
   ]
  },
  {
   "cell_type": "code",
   "execution_count": null,
   "metadata": {},
   "outputs": [],
   "source": []
  }
 ],
 "metadata": {
  "kernelspec": {
   "display_name": "Python 3",
   "language": "python",
   "name": "python3"
  },
  "language_info": {
   "codemirror_mode": {
    "name": "ipython",
    "version": 3
   },
   "file_extension": ".py",
   "mimetype": "text/x-python",
   "name": "python",
   "nbconvert_exporter": "python",
   "pygments_lexer": "ipython3",
   "version": "3.10.9"
  },
  "orig_nbformat": 4,
  "vscode": {
   "interpreter": {
    "hash": "e7370f93d1d0cde622a1f8e1c04877d8463912d04d973331ad4851f04de6915a"
   }
  }
 },
 "nbformat": 4,
 "nbformat_minor": 2
}
